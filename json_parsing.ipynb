{
 "cells": [
  {
   "cell_type": "code",
   "execution_count": 6,
   "metadata": {},
   "outputs": [],
   "source": [
    "import pandas as pd\n",
    "import requests\n",
    "import json"
   ]
  },
  {
   "cell_type": "code",
   "execution_count": 28,
   "metadata": {},
   "outputs": [],
   "source": [
    "category_name='food_and_drink'\n",
    "link = 'https://emojihub.herokuapp.com/api/all/category_'+category_name"
   ]
  },
  {
   "cell_type": "code",
   "execution_count": 29,
   "metadata": {},
   "outputs": [
    {
     "name": "stdout",
     "output_type": "stream",
     "text": [
      "200\n"
     ]
    }
   ],
   "source": [
    "response = requests.get(link)\n",
    "if response.status_code != 200:\n",
    "    print(\"Bad Response: \", response.status_code)\n",
    "print(response.status_code)\n",
    "emojihub = json.loads(response.text)"
   ]
  },
  {
   "cell_type": "code",
   "execution_count": 46,
   "metadata": {},
   "outputs": [],
   "source": [
    "def prettyJSON(myjson):\n",
    "    return json.dumps(json.loads(myjson), indent=4)"
   ]
  },
  {
   "cell_type": "code",
   "execution_count": 48,
   "metadata": {},
   "outputs": [],
   "source": [
    "with open('emojihub.json', mode='w') as f:\n",
    "    f.write(json.dumps(emojihub,indent=4))"
   ]
  },
  {
   "cell_type": "code",
   "execution_count": 30,
   "metadata": {},
   "outputs": [
    {
     "data": {
      "text/plain": [
       "[{'name': 'grapes',\n",
       "  'category': 'food and drink',\n",
       "  'group': 'food fruit',\n",
       "  'htmlCode': ['&#127815;'],\n",
       "  'unicode': ['U+1F347']},\n",
       " {'name': 'melon',\n",
       "  'category': 'food and drink',\n",
       "  'group': 'food fruit',\n",
       "  'htmlCode': ['&#127816;'],\n",
       "  'unicode': ['U+1F348']},\n",
       " {'name': 'watermelon',\n",
       "  'category': 'food and drink',\n",
       "  'group': 'food fruit',\n",
       "  'htmlCode': ['&#127817;'],\n",
       "  'unicode': ['U+1F349']},\n",
       " {'name': 'tangerine',\n",
       "  'category': 'food and drink',\n",
       "  'group': 'food fruit',\n",
       "  'htmlCode': ['&#127818;'],\n",
       "  'unicode': ['U+1F34A']}]"
      ]
     },
     "execution_count": 30,
     "metadata": {},
     "output_type": "execute_result"
    }
   ],
   "source": [
    "emojihub[:4]"
   ]
  }
 ],
 "metadata": {
  "kernelspec": {
   "display_name": "Python 3.8.8 ('base')",
   "language": "python",
   "name": "python3"
  },
  "language_info": {
   "codemirror_mode": {
    "name": "ipython",
    "version": 3
   },
   "file_extension": ".py",
   "mimetype": "text/x-python",
   "name": "python",
   "nbconvert_exporter": "python",
   "pygments_lexer": "ipython3",
   "version": "3.8.8"
  },
  "orig_nbformat": 4,
  "vscode": {
   "interpreter": {
    "hash": "b82d0b7d49088aa88821ea55c518aec88bd5f07811429b71f344ecefe8874bd6"
   }
  }
 },
 "nbformat": 4,
 "nbformat_minor": 2
}
