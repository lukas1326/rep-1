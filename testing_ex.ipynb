{
 "cells": [
  {
   "cell_type": "code",
   "execution_count": null,
   "metadata": {},
   "outputs": [],
   "source": [
    "# def add(a, b):\n",
    "#     \"\"\"\n",
    "#     Description: This function adds two similar objects that support addition\n",
    "#     Parameters: a and b are two objects of same type that support addition\n",
    "#     >>> add(2, 3)\n",
    "#     5\n",
    "#     >>> add(-100, 50)\n",
    "#     -50\n",
    "#     >>> add(0, 2900)\n",
    "#     2900\n",
    "#     \"\"\"\n",
    "#     # you could have your regular code and comments here\n",
    "#     return a + b"
   ]
  },
  {
   "cell_type": "code",
   "execution_count": 1,
   "metadata": {},
   "outputs": [],
   "source": [
    "import doctest"
   ]
  },
  {
   "cell_type": "code",
   "execution_count": 2,
   "metadata": {},
   "outputs": [
    {
     "data": {
      "text/plain": [
       "3600"
      ]
     },
     "execution_count": 2,
     "metadata": {},
     "output_type": "execute_result"
    }
   ],
   "source": [
    "7*17*29+5*29+4"
   ]
  },
  {
   "cell_type": "code",
   "execution_count": 5,
   "metadata": {},
   "outputs": [],
   "source": [
    "class WizCoin:\n",
    "    def __init__(self, galleons, sickles, knuts):\n",
    "        \"\"\"Create a new WizCoin object with galleons, sickles, and knuts.\"\"\"\n",
    "        self.galleons = galleons\n",
    "        self.sickles  = sickles\n",
    "        self.knuts    = knuts\n",
    "        # NOTE: __init__() methods NEVER have a return statement.\n",
    "    def value(self):\n",
    "        \"\"\"The value (in knuts) of all the coins in this WizCoin object.\n",
    "        >>> value(7,5,4)\n",
    "        3451\n",
    "        \"\"\"\n",
    "        return (self.galleons * 17 * 29) + (self.sickles * 29) + (self.knuts)\n",
    "\n",
    "    def weightInGrams(self):\n",
    "\n",
    "        \"\"\"Returns the weight of the coins in grams.\"\"\"\n",
    "        return (self.galleons * 31.103) + (self.sickles * 11.34) + (self.knuts * 5.0)"
   ]
  },
  {
   "cell_type": "code",
   "execution_count": 6,
   "metadata": {},
   "outputs": [
    {
     "name": "stdout",
     "output_type": "stream",
     "text": [
      "Trying:\n",
      "    value(7,5,4)\n",
      "Expecting:\n",
      "    3451\n",
      "**********************************************************************\n",
      "File \"__main__\", line 10, in __main__.WizCoin.value\n",
      "Failed example:\n",
      "    value(7,5,4)\n",
      "Expected:\n",
      "    3451\n",
      "Got:\n",
      "    3600\n",
      "Trying:\n",
      "    value(7,5,4)\n",
      "Expecting:\n",
      "    3600\n",
      "ok\n",
      "4 items had no tests:\n",
      "    __main__\n",
      "    __main__.WizCoin\n",
      "    __main__.WizCoin.__init__\n",
      "    __main__.WizCoin.weightInGrams\n",
      "1 items passed all tests:\n",
      "   1 tests in __main__.value\n",
      "**********************************************************************\n",
      "1 items had failures:\n",
      "   1 of   1 in __main__.WizCoin.value\n",
      "2 tests in 6 items.\n",
      "1 passed and 1 failed.\n",
      "***Test Failed*** 1 failures.\n"
     ]
    },
    {
     "data": {
      "text/plain": [
       "TestResults(failed=1, attempted=2)"
      ]
     },
     "execution_count": 6,
     "metadata": {},
     "output_type": "execute_result"
    }
   ],
   "source": [
    "doctest.testmod(verbose=True)"
   ]
  }
 ],
 "metadata": {
  "kernelspec": {
   "display_name": "Python 3.11.0 64-bit",
   "language": "python",
   "name": "python3"
  },
  "language_info": {
   "codemirror_mode": {
    "name": "ipython",
    "version": 3
   },
   "file_extension": ".py",
   "mimetype": "text/x-python",
   "name": "python",
   "nbconvert_exporter": "python",
   "pygments_lexer": "ipython3",
   "version": "3.11.0"
  },
  "orig_nbformat": 4,
  "vscode": {
   "interpreter": {
    "hash": "6d894b1d6e33a80b235506d9ec52523ebf70c9bfe0b7ea20875863a8002e946d"
   }
  }
 },
 "nbformat": 4,
 "nbformat_minor": 2
}
