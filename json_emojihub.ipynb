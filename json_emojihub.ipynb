{
 "cells": [
  {
   "cell_type": "code",
   "execution_count": 1,
   "metadata": {},
   "outputs": [],
   "source": [
    "import pandas as pd\n",
    "import requests\n",
    "import json\n",
    "import re"
   ]
  },
  {
   "cell_type": "code",
   "execution_count": 2,
   "metadata": {},
   "outputs": [],
   "source": [
    "category_name='food_and_drink'\n",
    "link = 'https://emojihub.herokuapp.com/api/all/category_'+category_name"
   ]
  },
  {
   "cell_type": "code",
   "execution_count": 3,
   "metadata": {},
   "outputs": [
    {
     "name": "stdout",
     "output_type": "stream",
     "text": [
      "Good Response:  200\n"
     ]
    }
   ],
   "source": [
    "response = requests.get(link)\n",
    "if response.status_code != 200:\n",
    "    print(\"Bad Response: \", response.status_code)\n",
    "else:\n",
    "    print(\"Good Response: \",response.status_code)\n",
    "    emojihub = json.loads(response.text)"
   ]
  },
  {
   "cell_type": "code",
   "execution_count": 4,
   "metadata": {},
   "outputs": [],
   "source": [
    "with open('emojihub.json', mode='w') as f:\n",
    "    f.write(json.dumps(emojihub,indent=4))"
   ]
  },
  {
   "cell_type": "code",
   "execution_count": 5,
   "metadata": {},
   "outputs": [],
   "source": [
    "\n",
    "def add_emoji (json_list):\n",
    "\n",
    "    for i in json_list:\n",
    "        for j in i['htmlCode']:\n",
    "            emoj = chr(int(re.findall('[\\d]+',j)[0]))        \n",
    "            i['emoji']=emoj\n",
    "    return json_list\n",
    "        \n",
    "   "
   ]
  },
  {
   "cell_type": "code",
   "execution_count": 6,
   "metadata": {},
   "outputs": [],
   "source": [
    "emojihub_with_emoji = add_emoji(emojihub)"
   ]
  },
  {
   "cell_type": "code",
   "execution_count": 7,
   "metadata": {},
   "outputs": [],
   "source": [
    "\n",
    "with open('emojihub_with_emoji.json', mode='w',encoding=\"utf-8\") as f:\n",
    "    f.write(json.dumps(emojihub,indent=4,ensure_ascii=False))"
   ]
  }
 ],
 "metadata": {
  "kernelspec": {
   "display_name": "Python 3.8.8 ('base')",
   "language": "python",
   "name": "python3"
  },
  "language_info": {
   "codemirror_mode": {
    "name": "ipython",
    "version": 3
   },
   "file_extension": ".py",
   "mimetype": "text/x-python",
   "name": "python",
   "nbconvert_exporter": "python",
   "pygments_lexer": "ipython3",
   "version": "3.8.8"
  },
  "orig_nbformat": 4,
  "vscode": {
   "interpreter": {
    "hash": "b82d0b7d49088aa88821ea55c518aec88bd5f07811429b71f344ecefe8874bd6"
   }
  }
 },
 "nbformat": 4,
 "nbformat_minor": 2
}
