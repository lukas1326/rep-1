{
 "cells": [
  {
   "cell_type": "code",
   "execution_count": 1,
   "metadata": {},
   "outputs": [],
   "source": [
    "# first lets make a string with some phone numbers from various countries\n",
    "\n",
    "phone_text = \"\"\"\n",
    "+1 555 123 4567\n",
    "+1 555 123 456\n",
    "+1 555 123 45\n",
    "Latvia +371 20 123 456\n",
    "Lithuania +370 5 123 456\n",
    "Estonia +372 5123 456\n",
    "USA +1 408 123 4567\n",
    "sometimes we write our phone numbers like this: 555 123 4560\n",
    "sometimes we write our phone numbers like this: 555-123-4561\n",
    "sometimes we write our phone numbers like this: 555.123.4562 rarely\n",
    "also we use parentheses: (555) 123-4563\n",
    "so the assignment is to write a regular expression that will match all of these phone numbers\n",
    "\"\"\"\n",
    "\n",
    "# TODO get all of these phone numbers using a regular expression\n",
    "# and return them as a list\n",
    "# see how many you can get\n",
    "# of course you can google for some regex ideas but first see how far you can get on your own\n"
   ]
  },
  {
   "cell_type": "code",
   "execution_count": 49,
   "metadata": {},
   "outputs": [],
   "source": [
    "import re\n",
    "\n"
   ]
  },
  {
   "cell_type": "code",
   "execution_count": 50,
   "metadata": {},
   "outputs": [],
   "source": [
    "reg_exp = \"\\+\\d+\\ \\d+ \\d+ \\d+|\\+\\d+\\ \\d+ \\d+|\\d+\\S\\d+\\S\\d+|\\d+\\s\\d+\\s\\d+|\\(\\d+\\)\\s\\d+\\S\\d+\"\n"
   ]
  },
  {
   "cell_type": "code",
   "execution_count": 51,
   "metadata": {},
   "outputs": [
    {
     "data": {
      "text/plain": [
       "['+1 555 123 4567',\n",
       " '+1 555 123 456',\n",
       " '+1 555 123 45',\n",
       " '+371 20 123 456',\n",
       " '+370 5 123 456',\n",
       " '+372 5123 456',\n",
       " '+1 408 123 4567',\n",
       " '555 123 4560',\n",
       " '555-123-4561',\n",
       " '555.123.4562',\n",
       " '(555) 123-4563']"
      ]
     },
     "execution_count": 51,
     "metadata": {},
     "output_type": "execute_result"
    }
   ],
   "source": [
    "re.findall(reg_exp,phone_text)\n",
    "    "
   ]
  },
  {
   "cell_type": "code",
   "execution_count": 36,
   "metadata": {},
   "outputs": [],
   "source": [
    "\n",
    "    "
   ]
  }
 ],
 "metadata": {
  "kernelspec": {
   "display_name": "Python 3.11.0 64-bit",
   "language": "python",
   "name": "python3"
  },
  "language_info": {
   "codemirror_mode": {
    "name": "ipython",
    "version": 3
   },
   "file_extension": ".py",
   "mimetype": "text/x-python",
   "name": "python",
   "nbconvert_exporter": "python",
   "pygments_lexer": "ipython3",
   "version": "3.11.0"
  },
  "orig_nbformat": 4,
  "vscode": {
   "interpreter": {
    "hash": "6d894b1d6e33a80b235506d9ec52523ebf70c9bfe0b7ea20875863a8002e946d"
   }
  }
 },
 "nbformat": 4,
 "nbformat_minor": 2
}
